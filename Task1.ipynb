{
 "cells": [
  {
   "cell_type": "markdown",
   "id": "1a9772b4",
   "metadata": {},
   "source": [
    "# Task1 — Movie Genre Classification (TF‑IDF + NB / LR / LinearSVC)"
   ]
  },
  {
   "cell_type": "code",
   "execution_count": 1,
   "id": "b0347108",
   "metadata": {},
   "outputs": [],
   "source": [
    "import numpy as np\n",
    "import pandas as pd\n",
    "import seaborn as sns\n",
    "import matplotlib.pyplot as plt\n",
    "import warnings\n",
    "warnings.filterwarnings('ignore')\n",
    "\n"
   ]
  },
  {
   "cell_type": "code",
   "execution_count": 4,
   "id": "1c0ea205",
   "metadata": {},
   "outputs": [
    {
     "data": {
      "text/html": [
       "<div>\n",
       "<style scoped>\n",
       "    .dataframe tbody tr th:only-of-type {\n",
       "        vertical-align: middle;\n",
       "    }\n",
       "\n",
       "    .dataframe tbody tr th {\n",
       "        vertical-align: top;\n",
       "    }\n",
       "\n",
       "    .dataframe thead th {\n",
       "        text-align: right;\n",
       "    }\n",
       "</style>\n",
       "<table border=\"1\" class=\"dataframe\">\n",
       "  <thead>\n",
       "    <tr style=\"text-align: right;\">\n",
       "      <th></th>\n",
       "      <th>ID</th>\n",
       "      <th>Title_Year</th>\n",
       "      <th>Genre</th>\n",
       "      <th>Plot</th>\n",
       "    </tr>\n",
       "  </thead>\n",
       "  <tbody>\n",
       "    <tr>\n",
       "      <th>0</th>\n",
       "      <td>1</td>\n",
       "      <td>Oscar et la dame rose (2009)</td>\n",
       "      <td>drama</td>\n",
       "      <td>Listening in to a conversation between his doc...</td>\n",
       "    </tr>\n",
       "    <tr>\n",
       "      <th>1</th>\n",
       "      <td>2</td>\n",
       "      <td>Cupid (1997)</td>\n",
       "      <td>thriller</td>\n",
       "      <td>A brother and sister with a past incestuous re...</td>\n",
       "    </tr>\n",
       "    <tr>\n",
       "      <th>2</th>\n",
       "      <td>3</td>\n",
       "      <td>Young, Wild and Wonderful (1980)</td>\n",
       "      <td>adult</td>\n",
       "      <td>As the bus empties the students for their fiel...</td>\n",
       "    </tr>\n",
       "    <tr>\n",
       "      <th>3</th>\n",
       "      <td>4</td>\n",
       "      <td>The Secret Sin (1915)</td>\n",
       "      <td>drama</td>\n",
       "      <td>To help their unemployed father make ends meet...</td>\n",
       "    </tr>\n",
       "    <tr>\n",
       "      <th>4</th>\n",
       "      <td>5</td>\n",
       "      <td>The Unrecovered (2007)</td>\n",
       "      <td>drama</td>\n",
       "      <td>The film's title refers not only to the un-rec...</td>\n",
       "    </tr>\n",
       "  </tbody>\n",
       "</table>\n",
       "</div>"
      ],
      "text/plain": [
       "   ID                        Title_Year     Genre  \\\n",
       "0   1      Oscar et la dame rose (2009)     drama   \n",
       "1   2                      Cupid (1997)  thriller   \n",
       "2   3  Young, Wild and Wonderful (1980)     adult   \n",
       "3   4             The Secret Sin (1915)     drama   \n",
       "4   5            The Unrecovered (2007)     drama   \n",
       "\n",
       "                                                Plot  \n",
       "0  Listening in to a conversation between his doc...  \n",
       "1  A brother and sister with a past incestuous re...  \n",
       "2  As the bus empties the students for their fiel...  \n",
       "3  To help their unemployed father make ends meet...  \n",
       "4  The film's title refers not only to the un-rec...  "
      ]
     },
     "execution_count": 4,
     "metadata": {},
     "output_type": "execute_result"
    }
   ],
   "source": [
    "mov = pd.read_csv(r\"C:\\Users\\HP\\Downloads\\Task1\\Genre Classification Dataset\\train_data.txt\",sep=\" ::: \",engine=\"python\",\n",
    "                  names=[\"ID\", \"Title_Year\", \"Genre\", \"Plot\"], encoding=\"utf-8\")\n",
    "mov.head()\n"
   ]
  },
  {
   "cell_type": "code",
   "execution_count": 5,
   "id": "013936ca",
   "metadata": {},
   "outputs": [
    {
     "name": "stdout",
     "output_type": "stream",
     "text": [
      "Shape: (54214, 4)\n",
      "\n",
      "Info:\n",
      "<class 'pandas.core.frame.DataFrame'>\n",
      "RangeIndex: 54214 entries, 0 to 54213\n",
      "Data columns (total 4 columns):\n",
      " #   Column      Non-Null Count  Dtype \n",
      "---  ------      --------------  ----- \n",
      " 0   ID          54214 non-null  int64 \n",
      " 1   Title_Year  54214 non-null  object\n",
      " 2   Genre       54214 non-null  object\n",
      " 3   Plot        54214 non-null  object\n",
      "dtypes: int64(1), object(3)\n",
      "memory usage: 1.7+ MB\n",
      "None\n",
      "\n",
      "Missing values per column:\n",
      "ID            0\n",
      "Title_Year    0\n",
      "Genre         0\n",
      "Plot          0\n",
      "dtype: int64\n"
     ]
    },
    {
     "data": {
      "text/plain": [
       "Genre\n",
       "drama          13613\n",
       "documentary    13096\n",
       "comedy          7447\n",
       "short           5073\n",
       "horror          2204\n",
       "thriller        1591\n",
       "action          1315\n",
       "western         1032\n",
       "reality-tv       884\n",
       "family           784\n",
       "adventure        775\n",
       "music            731\n",
       "romance          672\n",
       "sci-fi           647\n",
       "adult            590\n",
       "crime            505\n",
       "animation        498\n",
       "sport            432\n",
       "talk-show        391\n",
       "fantasy          323\n",
       "Name: count, dtype: int64"
      ]
     },
     "execution_count": 5,
     "metadata": {},
     "output_type": "execute_result"
    }
   ],
   "source": [
    "print(\"Shape:\", mov.shape)\n",
    "print(\"\\nInfo:\")\n",
    "print(mov.info())\n",
    "\n",
    "print(\"\\nMissing values per column:\")\n",
    "print(mov.isnull().sum())\n",
    "\n",
    "mov['Genre'].value_counts().head(20)\n"
   ]
  },
  {
   "cell_type": "code",
   "execution_count": 6,
   "id": "60af5a03",
   "metadata": {},
   "outputs": [
    {
     "name": "stdout",
     "output_type": "stream",
     "text": [
      "Rows kept: 54214/54214\n"
     ]
    },
    {
     "data": {
      "text/html": [
       "<div>\n",
       "<style scoped>\n",
       "    .dataframe tbody tr th:only-of-type {\n",
       "        vertical-align: middle;\n",
       "    }\n",
       "\n",
       "    .dataframe tbody tr th {\n",
       "        vertical-align: top;\n",
       "    }\n",
       "\n",
       "    .dataframe thead th {\n",
       "        text-align: right;\n",
       "    }\n",
       "</style>\n",
       "<table border=\"1\" class=\"dataframe\">\n",
       "  <thead>\n",
       "    <tr style=\"text-align: right;\">\n",
       "      <th></th>\n",
       "      <th>ID</th>\n",
       "      <th>Title_Year</th>\n",
       "      <th>Genre</th>\n",
       "      <th>Plot</th>\n",
       "    </tr>\n",
       "  </thead>\n",
       "  <tbody>\n",
       "    <tr>\n",
       "      <th>0</th>\n",
       "      <td>1</td>\n",
       "      <td>Oscar et la dame rose (2009)</td>\n",
       "      <td>drama</td>\n",
       "      <td>Listening in to a conversation between his doc...</td>\n",
       "    </tr>\n",
       "    <tr>\n",
       "      <th>1</th>\n",
       "      <td>2</td>\n",
       "      <td>Cupid (1997)</td>\n",
       "      <td>thriller</td>\n",
       "      <td>A brother and sister with a past incestuous re...</td>\n",
       "    </tr>\n",
       "    <tr>\n",
       "      <th>2</th>\n",
       "      <td>3</td>\n",
       "      <td>Young, Wild and Wonderful (1980)</td>\n",
       "      <td>adult</td>\n",
       "      <td>As the bus empties the students for their fiel...</td>\n",
       "    </tr>\n",
       "    <tr>\n",
       "      <th>3</th>\n",
       "      <td>4</td>\n",
       "      <td>The Secret Sin (1915)</td>\n",
       "      <td>drama</td>\n",
       "      <td>To help their unemployed father make ends meet...</td>\n",
       "    </tr>\n",
       "    <tr>\n",
       "      <th>4</th>\n",
       "      <td>5</td>\n",
       "      <td>The Unrecovered (2007)</td>\n",
       "      <td>drama</td>\n",
       "      <td>The film's title refers not only to the un-rec...</td>\n",
       "    </tr>\n",
       "  </tbody>\n",
       "</table>\n",
       "</div>"
      ],
      "text/plain": [
       "   ID                        Title_Year     Genre  \\\n",
       "0   1      Oscar et la dame rose (2009)     drama   \n",
       "1   2                      Cupid (1997)  thriller   \n",
       "2   3  Young, Wild and Wonderful (1980)     adult   \n",
       "3   4             The Secret Sin (1915)     drama   \n",
       "4   5            The Unrecovered (2007)     drama   \n",
       "\n",
       "                                                Plot  \n",
       "0  Listening in to a conversation between his doc...  \n",
       "1  A brother and sister with a past incestuous re...  \n",
       "2  As the bus empties the students for their fiel...  \n",
       "3  To help their unemployed father make ends meet...  \n",
       "4  The film's title refers not only to the un-rec...  "
      ]
     },
     "execution_count": 6,
     "metadata": {},
     "output_type": "execute_result"
    }
   ],
   "source": [
    "before = mov.shape[0]\n",
    "mov = mov.dropna(subset=[\"Genre\", \"Plot\"])\n",
    "mov = mov[mov['Plot'].str.strip() != \"\"]\n",
    "after = mov.shape[0]\n",
    "print(f\"Rows kept: {after}/{before}\")\n",
    "\n",
    "mov = mov.reset_index(drop=True)\n",
    "mov.head()\n"
   ]
  },
  {
   "cell_type": "code",
   "execution_count": 7,
   "id": "be4beca2",
   "metadata": {},
   "outputs": [
    {
     "data": {
      "text/html": [
       "<div>\n",
       "<style scoped>\n",
       "    .dataframe tbody tr th:only-of-type {\n",
       "        vertical-align: middle;\n",
       "    }\n",
       "\n",
       "    .dataframe tbody tr th {\n",
       "        vertical-align: top;\n",
       "    }\n",
       "\n",
       "    .dataframe thead th {\n",
       "        text-align: right;\n",
       "    }\n",
       "</style>\n",
       "<table border=\"1\" class=\"dataframe\">\n",
       "  <thead>\n",
       "    <tr style=\"text-align: right;\">\n",
       "      <th></th>\n",
       "      <th>Genre</th>\n",
       "      <th>clean_plot</th>\n",
       "    </tr>\n",
       "  </thead>\n",
       "  <tbody>\n",
       "    <tr>\n",
       "      <th>0</th>\n",
       "      <td>drama</td>\n",
       "      <td>listening in to a conversation between his doc...</td>\n",
       "    </tr>\n",
       "    <tr>\n",
       "      <th>1</th>\n",
       "      <td>thriller</td>\n",
       "      <td>a brother and sister with a past incestuous re...</td>\n",
       "    </tr>\n",
       "    <tr>\n",
       "      <th>2</th>\n",
       "      <td>adult</td>\n",
       "      <td>as the bus empties the students for their fiel...</td>\n",
       "    </tr>\n",
       "    <tr>\n",
       "      <th>3</th>\n",
       "      <td>drama</td>\n",
       "      <td>to help their unemployed father make ends meet...</td>\n",
       "    </tr>\n",
       "    <tr>\n",
       "      <th>4</th>\n",
       "      <td>drama</td>\n",
       "      <td>the film s title refers not only to the un rec...</td>\n",
       "    </tr>\n",
       "  </tbody>\n",
       "</table>\n",
       "</div>"
      ],
      "text/plain": [
       "      Genre                                         clean_plot\n",
       "0     drama  listening in to a conversation between his doc...\n",
       "1  thriller  a brother and sister with a past incestuous re...\n",
       "2     adult  as the bus empties the students for their fiel...\n",
       "3     drama  to help their unemployed father make ends meet...\n",
       "4     drama  the film s title refers not only to the un rec..."
      ]
     },
     "execution_count": 7,
     "metadata": {},
     "output_type": "execute_result"
    }
   ],
   "source": [
    "import re\n",
    "import string\n",
    "\n",
    "def clean_text(text):\n",
    "    text = text.lower()\n",
    "    text = re.sub(r'\\[.*?\\]', '', text)\n",
    "    text = re.sub(rf\"[{re.escape(string.punctuation)}]\", ' ', text)\n",
    "    text = re.sub(r'\\d+', ' ', text)\n",
    "    text = re.sub(r'\\s+', ' ', text).strip()\n",
    "    return text\n",
    "\n",
    "mov['clean_plot'] = mov['Plot'].apply(clean_text)\n",
    "mov[['Genre','clean_plot']].head()\n"
   ]
  },
  {
   "cell_type": "markdown",
   "id": "235a44f0-97df-424f-9037-a703ffb5f78b",
   "metadata": {},
   "source": [
    "## Label Encoding"
   ]
  },
  {
   "cell_type": "code",
   "execution_count": 8,
   "id": "fb7c3798",
   "metadata": {},
   "outputs": [
    {
     "name": "stdout",
     "output_type": "stream",
     "text": [
      "{'action': np.int64(0), 'adult': np.int64(1), 'adventure': np.int64(2), 'animation': np.int64(3), 'biography': np.int64(4), 'comedy': np.int64(5), 'crime': np.int64(6), 'documentary': np.int64(7), 'drama': np.int64(8), 'family': np.int64(9), 'fantasy': np.int64(10), 'game-show': np.int64(11), 'history': np.int64(12), 'horror': np.int64(13), 'music': np.int64(14), 'musical': np.int64(15), 'mystery': np.int64(16), 'news': np.int64(17), 'reality-tv': np.int64(18), 'romance': np.int64(19), 'sci-fi': np.int64(20), 'short': np.int64(21), 'sport': np.int64(22), 'talk-show': np.int64(23), 'thriller': np.int64(24), 'war': np.int64(25), 'western': np.int64(26)}\n"
     ]
    }
   ],
   "source": [
    "from sklearn.preprocessing import LabelEncoder\n",
    "le = LabelEncoder()\n",
    "mov['genre_encoded'] = le.fit_transform(mov['Genre'])\n",
    "print(dict(zip(le.classes_, le.transform(le.classes_))))\n"
   ]
  },
  {
   "cell_type": "markdown",
   "id": "ffa4e3a2",
   "metadata": {},
   "source": [
    "## 6. TF‑IDF Vectorization"
   ]
  },
  {
   "cell_type": "code",
   "execution_count": 9,
   "id": "1d045b5e",
   "metadata": {},
   "outputs": [
    {
     "data": {
      "text/plain": [
       "(54214, 5000)"
      ]
     },
     "execution_count": 9,
     "metadata": {},
     "output_type": "execute_result"
    }
   ],
   "source": [
    "from sklearn.feature_extraction.text import TfidfVectorizer\n",
    "\n",
    "# You can lower max_features if your machine is slow (e.g., 2000)\n",
    "tfidf = TfidfVectorizer(stop_words='english', max_features=5000)\n",
    "X = tfidf.fit_transform(mov['clean_plot'])\n",
    "y = mov['genre_encoded']\n",
    "\n",
    "X.shape\n"
   ]
  },
  {
   "cell_type": "markdown",
   "id": "11f16160",
   "metadata": {},
   "source": [
    "## 7. Train / Test Split"
   ]
  },
  {
   "cell_type": "code",
   "execution_count": 10,
   "id": "9389009f",
   "metadata": {},
   "outputs": [
    {
     "data": {
      "text/plain": [
       "((43371, 5000), (10843, 5000))"
      ]
     },
     "execution_count": 10,
     "metadata": {},
     "output_type": "execute_result"
    }
   ],
   "source": [
    "from sklearn.model_selection import train_test_split\n",
    "X_train, X_test, y_train, y_test = train_test_split(X, y, test_size=0.2, random_state=42, stratify=y)\n",
    "X_train.shape, X_test.shape\n"
   ]
  },
  {
   "cell_type": "markdown",
   "id": "95c6cedc",
   "metadata": {},
   "source": [
    "## 8. Model 1 — Multinomial Naive Bayes"
   ]
  },
  {
   "cell_type": "code",
   "execution_count": 11,
   "id": "5b16b106",
   "metadata": {},
   "outputs": [
    {
     "name": "stdout",
     "output_type": "stream",
     "text": [
      "MultinomialNB Accuracy: 0.5221802084294015\n",
      "              precision    recall  f1-score   support\n",
      "\n",
      "      action       0.56      0.07      0.12       263\n",
      "       adult       0.60      0.05      0.09       118\n",
      "   adventure       0.75      0.04      0.07       155\n",
      "   animation       0.00      0.00      0.00       100\n",
      "   biography       0.00      0.00      0.00        53\n",
      "      comedy       0.51      0.43      0.47      1490\n",
      "       crime       0.00      0.00      0.00       101\n",
      " documentary       0.57      0.89      0.70      2619\n",
      "       drama       0.46      0.82      0.59      2723\n",
      "      family       0.00      0.00      0.00       157\n",
      "     fantasy       0.00      0.00      0.00        65\n",
      "   game-show       1.00      0.18      0.30        39\n",
      "     history       0.00      0.00      0.00        49\n",
      "      horror       0.72      0.37      0.48       441\n",
      "       music       0.70      0.10      0.17       146\n",
      "     musical       0.00      0.00      0.00        55\n",
      "     mystery       0.00      0.00      0.00        64\n",
      "        news       0.00      0.00      0.00        36\n",
      "  reality-tv       1.00      0.01      0.01       177\n",
      "     romance       0.00      0.00      0.00       134\n",
      "      sci-fi       0.89      0.06      0.12       129\n",
      "       short       0.58      0.11      0.19      1015\n",
      "       sport       0.53      0.09      0.16        86\n",
      "   talk-show       0.00      0.00      0.00        78\n",
      "    thriller       0.39      0.02      0.04       318\n",
      "         war       0.00      0.00      0.00        26\n",
      "     western       0.97      0.53      0.69       206\n",
      "\n",
      "    accuracy                           0.52     10843\n",
      "   macro avg       0.38      0.14      0.16     10843\n",
      "weighted avg       0.51      0.52      0.44     10843\n",
      "\n"
     ]
    }
   ],
   "source": [
    "from sklearn.naive_bayes import MultinomialNB\n",
    "from sklearn.metrics import accuracy_score, classification_report, confusion_matrix\n",
    "\n",
    "nb = MultinomialNB()\n",
    "nb.fit(X_train, y_train)\n",
    "pred_nb = nb.predict(X_test)\n",
    "\n",
    "print(\"MultinomialNB Accuracy:\", accuracy_score(y_test, pred_nb))\n",
    "print(classification_report(y_test, pred_nb, target_names=le.classes_))\n"
   ]
  },
  {
   "cell_type": "markdown",
   "id": "796fe537",
   "metadata": {},
   "source": [
    "## 9. Model 2 — Logistic Regression"
   ]
  },
  {
   "cell_type": "code",
   "execution_count": 12,
   "id": "30e6e887",
   "metadata": {},
   "outputs": [
    {
     "name": "stdout",
     "output_type": "stream",
     "text": [
      "Logistic Regression Accuracy: 0.579728857327308\n",
      "              precision    recall  f1-score   support\n",
      "\n",
      "      action       0.49      0.25      0.34       263\n",
      "       adult       0.77      0.31      0.44       118\n",
      "   adventure       0.56      0.12      0.19       155\n",
      "   animation       0.73      0.08      0.14       100\n",
      "   biography       0.00      0.00      0.00        53\n",
      "      comedy       0.52      0.60      0.56      1490\n",
      "       crime       0.29      0.02      0.04       101\n",
      " documentary       0.66      0.85      0.75      2619\n",
      "       drama       0.54      0.77      0.64      2723\n",
      "      family       0.56      0.11      0.19       157\n",
      "     fantasy       0.00      0.00      0.00        65\n",
      "   game-show       1.00      0.38      0.56        39\n",
      "     history       0.00      0.00      0.00        49\n",
      "      horror       0.66      0.55      0.60       441\n",
      "       music       0.67      0.38      0.49       146\n",
      "     musical       1.00      0.02      0.04        55\n",
      "     mystery       0.50      0.02      0.03        64\n",
      "        news       1.00      0.06      0.11        36\n",
      "  reality-tv       0.45      0.19      0.27       177\n",
      "     romance       0.14      0.01      0.01       134\n",
      "      sci-fi       0.66      0.29      0.41       129\n",
      "       short       0.45      0.32      0.37      1015\n",
      "       sport       0.59      0.26      0.36        86\n",
      "   talk-show       0.53      0.12      0.19        78\n",
      "    thriller       0.38      0.14      0.21       318\n",
      "         war       0.00      0.00      0.00        26\n",
      "     western       0.92      0.65      0.76       206\n",
      "\n",
      "    accuracy                           0.58     10843\n",
      "   macro avg       0.52      0.24      0.28     10843\n",
      "weighted avg       0.56      0.58      0.54     10843\n",
      "\n"
     ]
    }
   ],
   "source": [
    "from sklearn.linear_model import LogisticRegression\n",
    "\n",
    "lr = LogisticRegression(max_iter=1000, n_jobs=-1)\n",
    "lr.fit(X_train, y_train)\n",
    "pred_lr = lr.predict(X_test)\n",
    "\n",
    "print(\"Logistic Regression Accuracy:\", accuracy_score(y_test, pred_lr))\n",
    "print(classification_report(y_test, pred_lr, target_names=le.classes_))\n"
   ]
  },
  {
   "cell_type": "markdown",
   "id": "5ab46fb5",
   "metadata": {},
   "source": [
    "## 10. Model 3 — Linear SVM (LinearSVC)"
   ]
  },
  {
   "cell_type": "code",
   "execution_count": 13,
   "id": "50ab2fbf",
   "metadata": {},
   "outputs": [
    {
     "name": "stdout",
     "output_type": "stream",
     "text": [
      "LinearSVC Accuracy: 0.5670017522825787\n",
      "              precision    recall  f1-score   support\n",
      "\n",
      "      action       0.42      0.37      0.39       263\n",
      "       adult       0.65      0.40      0.49       118\n",
      "   adventure       0.40      0.23      0.30       155\n",
      "   animation       0.31      0.18      0.23       100\n",
      "   biography       0.00      0.00      0.00        53\n",
      "      comedy       0.52      0.57      0.54      1490\n",
      "       crime       0.22      0.07      0.11       101\n",
      " documentary       0.69      0.81      0.74      2619\n",
      "       drama       0.57      0.70      0.62      2723\n",
      "      family       0.36      0.18      0.24       157\n",
      "     fantasy       0.05      0.02      0.02        65\n",
      "   game-show       0.79      0.56      0.66        39\n",
      "     history       0.60      0.06      0.11        49\n",
      "      horror       0.60      0.62      0.61       441\n",
      "       music       0.54      0.43      0.48       146\n",
      "     musical       0.33      0.07      0.12        55\n",
      "     mystery       0.16      0.05      0.07        64\n",
      "        news       0.33      0.11      0.17        36\n",
      "  reality-tv       0.34      0.25      0.29       177\n",
      "     romance       0.14      0.03      0.05       134\n",
      "      sci-fi       0.46      0.40      0.42       129\n",
      "       short       0.40      0.32      0.35      1015\n",
      "       sport       0.53      0.48      0.50        86\n",
      "   talk-show       0.36      0.22      0.27        78\n",
      "    thriller       0.30      0.17      0.22       318\n",
      "         war       1.00      0.19      0.32        26\n",
      "     western       0.79      0.77      0.78       206\n",
      "\n",
      "    accuracy                           0.57     10843\n",
      "   macro avg       0.44      0.30      0.34     10843\n",
      "weighted avg       0.54      0.57      0.54     10843\n",
      "\n"
     ]
    }
   ],
   "source": [
    "from sklearn.svm import LinearSVC\n",
    "svm = LinearSVC()\n",
    "svm.fit(X_train, y_train)\n",
    "pred_svm = svm.predict(X_test)\n",
    "\n",
    "print(\"LinearSVC Accuracy:\", accuracy_score(y_test, pred_svm))\n",
    "print(classification_report(y_test, pred_svm, target_names=le.classes_))\n"
   ]
  },
  {
   "cell_type": "markdown",
   "id": "e64621b4",
   "metadata": {},
   "source": [
    "## 11. Confusion Matrix"
   ]
  },
  {
   "cell_type": "code",
   "execution_count": 14,
   "id": "6a472629",
   "metadata": {},
   "outputs": [
    {
     "data": {
      "image/png": "[encoded data removed]",
      "text/plain": [
       "<Figure size 1200x800 with 2 Axes>"
      ]
     },
     "metadata": {},
     "output_type": "display_data"
    }
   ],
   "source": [
    "cm = confusion_matrix(y_test, pred_svm)\n",
    "plt.figure(figsize=(12, 8))\n",
    "sns.heatmap(cm, annot=False, cmap=\"Blues\")\n",
    "plt.title(\"Confusion Matrix — LinearSVC\")\n",
    "plt.xlabel(\"Predicted\")\n",
    "plt.ylabel(\"Actual\")\n",
    "plt.show()\n"
   ]
  }
 ],
 "metadata": {
  "kernelspec": {
   "display_name": "Python [conda env:base] *",
   "language": "python",
   "name": "conda-base-py"
  },
  "language_info": {
   "codemirror_mode": {
    "name": "ipython",
    "version": 3
   },
   "file_extension": ".py",
   "mimetype": "text/x-python",
   "name": "python",
   "nbconvert_exporter": "python",
   "pygments_lexer": "ipython3",
   "version": "3.13.5"
  }
 },
 "nbformat": 4,
 "nbformat_minor": 5
}
